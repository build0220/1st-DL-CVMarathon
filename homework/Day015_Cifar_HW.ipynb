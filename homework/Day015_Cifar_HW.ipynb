{
 "cells": [
  {
   "cell_type": "markdown",
   "metadata": {},
   "source": [
    "## 『本次練習內容』\n",
    "#### 運用這幾天所學觀念搭建一個CNN分類器"
   ]
  },
  {
   "cell_type": "markdown",
   "metadata": {},
   "source": [
    "## 『本次練習目的』\n",
    "  #### 熟悉CNN分類器搭建步驟與原理\n",
    "  #### 學員們可以嘗試不同搭法，如使用不同的Maxpooling層，用GlobalAveragePooling取代Flatten等等"
   ]
  },
  {
   "cell_type": "code",
   "execution_count": 1,
   "metadata": {},
   "outputs": [
    {
     "name": "stderr",
     "output_type": "stream",
     "text": [
      "Using TensorFlow backend.\n"
     ]
    }
   ],
   "source": [
    "from keras.models import Sequential\n",
    "from keras.layers import Convolution2D\n",
    "from keras.layers import MaxPooling2D\n",
    "from keras.layers import Flatten\n",
    "from keras.layers import Dense\n",
    "from keras.layers import Dropout\n",
    "from keras.layers import BatchNormalization\n",
    "from keras.layers import Activation\n",
    "from keras.datasets import cifar10\n",
    "import numpy as np\n",
    "import tensorflow as tf\n",
    "from sklearn.preprocessing import OneHotEncoder\n"
   ]
  },
  {
   "cell_type": "code",
   "execution_count": 2,
   "metadata": {},
   "outputs": [
    {
     "name": "stdout",
     "output_type": "stream",
     "text": [
      "(50000, 32, 32, 3)\n"
     ]
    }
   ],
   "source": [
    "(x_train, y_train), (x_test, y_test) = cifar10.load_data()\n",
    "\n",
    "print(x_train.shape) #(50000, 32, 32, 3)\n",
    "\n",
    "## Normalize Data\n",
    "def normalize(X_train,X_test):\n",
    "        mean = np.mean(X_train,axis=(0,1,2,3))\n",
    "        std = np.std(X_train, axis=(0, 1, 2, 3))\n",
    "        X_train = (X_train-mean)/(std+1e-7)\n",
    "        X_test = (X_test-mean)/(std+1e-7) \n",
    "        return X_train, X_test,mean,std\n",
    "    \n",
    "    \n",
    "## Normalize Training and Testset    \n",
    "x_train, x_test,mean_train,std_train = normalize(x_train, x_test) "
   ]
  },
  {
   "cell_type": "code",
   "execution_count": 3,
   "metadata": {},
   "outputs": [
    {
     "name": "stderr",
     "output_type": "stream",
     "text": [
      "D:\\ProgramData\\anaconda3\\envs\\python36\\lib\\site-packages\\sklearn\\preprocessing\\_encoders.py:371: FutureWarning: The handling of integer data will change in version 0.22. Currently, the categories are determined based on the range [0, max(values)], while in the future they will be determined based on the unique values.\n",
      "If you want the future behaviour and silence this warning, you can specify \"categories='auto'\".\n",
      "In case you used a LabelEncoder before this OneHotEncoder to convert the categories to integers, then you can now use the OneHotEncoder directly.\n",
      "  warnings.warn(msg, FutureWarning)\n"
     ]
    }
   ],
   "source": [
    "## OneHot Label 由(None, 1)-(None, 10)\n",
    "## ex. label=2,變成[0,0,1,0,0,0,0,0,0,0]\n",
    "one_hot=OneHotEncoder()\n",
    "y_train=one_hot.fit_transform(y_train).toarray()\n",
    "y_test=one_hot.transform(y_test).toarray()"
   ]
  },
  {
   "cell_type": "code",
   "execution_count": 5,
   "metadata": {},
   "outputs": [
    {
     "name": "stderr",
     "output_type": "stream",
     "text": [
      "W1214 11:20:52.403241 21696 deprecation_wrapper.py:119] From D:\\ProgramData\\anaconda3\\envs\\python36\\lib\\site-packages\\keras\\backend\\tensorflow_backend.py:3976: The name tf.nn.max_pool is deprecated. Please use tf.nn.max_pool2d instead.\n",
      "\n"
     ]
    },
    {
     "name": "stdout",
     "output_type": "stream",
     "text": [
      "_________________________________________________________________\n",
      "Layer (type)                 Output Shape              Param #   \n",
      "=================================================================\n",
      "conv2d_3 (Conv2D)            (None, 32, 32, 32)        896       \n",
      "_________________________________________________________________\n",
      "batch_normalization_3 (Batch (None, 32, 32, 32)        128       \n",
      "_________________________________________________________________\n",
      "activation_4 (Activation)    (None, 32, 32, 32)        0         \n",
      "_________________________________________________________________\n",
      "max_pooling2d_1 (MaxPooling2 (None, 16, 16, 32)        0         \n",
      "_________________________________________________________________\n",
      "conv2d_4 (Conv2D)            (None, 16, 16, 64)        18496     \n",
      "_________________________________________________________________\n",
      "batch_normalization_4 (Batch (None, 16, 16, 64)        256       \n",
      "_________________________________________________________________\n",
      "activation_5 (Activation)    (None, 16, 16, 64)        0         \n",
      "_________________________________________________________________\n",
      "flatten_2 (Flatten)          (None, 16384)             0         \n",
      "_________________________________________________________________\n",
      "dense_3 (Dense)              (None, 100)               1638500   \n",
      "_________________________________________________________________\n",
      "activation_6 (Activation)    (None, 100)               0         \n",
      "_________________________________________________________________\n",
      "dense_4 (Dense)              (None, 10)                1010      \n",
      "=================================================================\n",
      "Total params: 1,659,286\n",
      "Trainable params: 1,659,094\n",
      "Non-trainable params: 192\n",
      "_________________________________________________________________\n"
     ]
    },
    {
     "name": "stderr",
     "output_type": "stream",
     "text": [
      "D:\\ProgramData\\anaconda3\\envs\\python36\\lib\\site-packages\\ipykernel_launcher.py:21: UserWarning: Update your `Dense` call to the Keras 2 API: `Dense(activation=\"softmax\", units=10)`\n"
     ]
    }
   ],
   "source": [
    "classifier=Sequential()\n",
    "\n",
    "#卷積組合\n",
    "classifier.add(Convolution2D(32, kernel_size=(3, 3), padding='same',input_shape=(32,32,3)))#32,3,3,input_shape=(32,32,3),activation='relu''\n",
    "classifier.add(BatchNormalization())\n",
    "classifier.add(Activation('relu'))\n",
    "#'''自己決定MaxPooling2D放在哪裡'''\n",
    "classifier.add(MaxPooling2D(pool_size=(2,2)))\n",
    "\n",
    "#卷積組合\n",
    "classifier.add(Convolution2D(64, kernel_size=(3, 3), padding='same'))\n",
    "classifier.add(BatchNormalization())\n",
    "classifier.add(Activation('relu'))\n",
    "#flatten\n",
    "classifier.add(Flatten())\n",
    "\n",
    "#FC\n",
    "classifier.add(Dense(units=100)) #output_dim=100,activation=relu\n",
    "classifier.add(Activation('relu'))\n",
    "#輸出\n",
    "classifier.add(Dense(output_dim=10,activation='softmax'))\n",
    "classifier.summary()"
   ]
  },
  {
   "cell_type": "code",
   "execution_count": 6,
   "metadata": {},
   "outputs": [
    {
     "name": "stderr",
     "output_type": "stream",
     "text": [
      "W1214 11:20:59.007211 21696 deprecation_wrapper.py:119] From D:\\ProgramData\\anaconda3\\envs\\python36\\lib\\site-packages\\keras\\optimizers.py:790: The name tf.train.Optimizer is deprecated. Please use tf.compat.v1.train.Optimizer instead.\n",
      "\n",
      "W1214 11:20:59.300902 21696 deprecation.py:323] From D:\\ProgramData\\anaconda3\\envs\\python36\\lib\\site-packages\\tensorflow\\python\\ops\\math_grad.py:1250: add_dispatch_support.<locals>.wrapper (from tensorflow.python.ops.array_ops) is deprecated and will be removed in a future version.\n",
      "Instructions for updating:\n",
      "Use tf.where in 2.0, which has the same broadcast rule as np.where\n"
     ]
    },
    {
     "name": "stdout",
     "output_type": "stream",
     "text": [
      "Epoch 1/100\n",
      "50000/50000 [==============================] - 17s 347us/step - loss: 1.6334 - acc: 0.4010\n",
      "Epoch 2/100\n",
      "50000/50000 [==============================] - 12s 231us/step - loss: 1.1101 - acc: 0.5960\n",
      "Epoch 3/100\n",
      "50000/50000 [==============================] - 12s 238us/step - loss: 0.9802 - acc: 0.6475\n",
      "Epoch 4/100\n",
      "50000/50000 [==============================] - 12s 234us/step - loss: 0.8918 - acc: 0.6821\n",
      "Epoch 5/100\n",
      "50000/50000 [==============================] - 12s 234us/step - loss: 0.8322 - acc: 0.70341s - loss\n",
      "Epoch 6/100\n",
      "50000/50000 [==============================] - 12s 242us/step - loss: 0.7616 - acc: 0.7288\n",
      "Epoch 7/100\n",
      "50000/50000 [==============================] - 12s 239us/step - loss: 0.7177 - acc: 0.7442\n",
      "Epoch 8/100\n",
      "50000/50000 [==============================] - 12s 249us/step - loss: 0.6630 - acc: 0.7643\n",
      "Epoch 9/100\n",
      "50000/50000 [==============================] - 13s 251us/step - loss: 0.6186 - acc: 0.7806\n",
      "Epoch 10/100\n",
      "50000/50000 [==============================] - 12s 243us/step - loss: 0.5794 - acc: 0.7938\n",
      "Epoch 11/100\n",
      "50000/50000 [==============================] - 14s 284us/step - loss: 0.5357 - acc: 0.8089\n",
      "Epoch 12/100\n",
      "50000/50000 [==============================] - 12s 243us/step - loss: 0.5038 - acc: 0.8197\n",
      "Epoch 13/100\n",
      "50000/50000 [==============================] - 12s 235us/step - loss: 0.4662 - acc: 0.8333\n",
      "Epoch 14/100\n",
      "50000/50000 [==============================] - 12s 233us/step - loss: 0.4269 - acc: 0.8481\n",
      "Epoch 15/100\n",
      "50000/50000 [==============================] - 9s 180us/step - loss: 0.4067 - acc: 0.8531\n",
      "Epoch 16/100\n",
      "50000/50000 [==============================] - 9s 174us/step - loss: 0.3639 - acc: 0.8699\n",
      "Epoch 17/100\n",
      "50000/50000 [==============================] - 9s 172us/step - loss: 0.3491 - acc: 0.8744\n",
      "Epoch 18/100\n",
      "50000/50000 [==============================] - 9s 178us/step - loss: 0.3201 - acc: 0.8850\n",
      "Epoch 19/100\n",
      "50000/50000 [==============================] - 10s 197us/step - loss: 0.2964 - acc: 0.8944\n",
      "Epoch 20/100\n",
      "50000/50000 [==============================] - 13s 250us/step - loss: 0.2673 - acc: 0.9051\n",
      "Epoch 21/100\n",
      "50000/50000 [==============================] - 9s 190us/step - loss: 0.2588 - acc: 0.9064\n",
      "Epoch 22/100\n",
      "50000/50000 [==============================] - 13s 251us/step - loss: 0.2354 - acc: 0.9165\n",
      "Epoch 23/100\n",
      "50000/50000 [==============================] - 11s 219us/step - loss: 0.2172 - acc: 0.9222\n",
      "Epoch 24/100\n",
      "50000/50000 [==============================] - 10s 197us/step - loss: 0.2056 - acc: 0.9267\n",
      "Epoch 25/100\n",
      "50000/50000 [==============================] - 8s 168us/step - loss: 0.1946 - acc: 0.9314\n",
      "Epoch 26/100\n",
      "50000/50000 [==============================] - 8s 160us/step - loss: 0.1833 - acc: 0.9356\n",
      "Epoch 27/100\n",
      "50000/50000 [==============================] - 8s 165us/step - loss: 0.1711 - acc: 0.9404\n",
      "Epoch 28/100\n",
      "50000/50000 [==============================] - 8s 164us/step - loss: 0.1556 - acc: 0.9455 2s - loss: 0. - ETA: 1s - l\n",
      "Epoch 29/100\n",
      "50000/50000 [==============================] - 9s 177us/step - loss: 0.1480 - acc: 0.9485\n",
      "Epoch 30/100\n",
      "50000/50000 [==============================] - 9s 178us/step - loss: 0.1409 - acc: 0.9502\n",
      "Epoch 31/100\n",
      "50000/50000 [==============================] - 13s 254us/step - loss: 0.1410 - acc: 0.9494\n",
      "Epoch 32/100\n",
      "50000/50000 [==============================] - 12s 237us/step - loss: 0.1270 - acc: 0.9547\n",
      "Epoch 33/100\n",
      "50000/50000 [==============================] - 12s 237us/step - loss: 0.1261 - acc: 0.9560\n",
      "Epoch 34/100\n",
      "50000/50000 [==============================] - 12s 245us/step - loss: 0.1308 - acc: 0.9531\n",
      "Epoch 35/100\n",
      "50000/50000 [==============================] - 11s 226us/step - loss: 0.0998 - acc: 0.9658\n",
      "Epoch 36/100\n",
      "50000/50000 [==============================] - 11s 220us/step - loss: 0.1089 - acc: 0.9627\n",
      "Epoch 37/100\n",
      "50000/50000 [==============================] - 11s 213us/step - loss: 0.1063 - acc: 0.9633\n",
      "Epoch 38/100\n",
      "50000/50000 [==============================] - 11s 220us/step - loss: 0.0996 - acc: 0.9660\n",
      "Epoch 39/100\n",
      "50000/50000 [==============================] - 12s 236us/step - loss: 0.0854 - acc: 0.9707\n",
      "Epoch 40/100\n",
      "50000/50000 [==============================] - 12s 238us/step - loss: 0.1035 - acc: 0.9635\n",
      "Epoch 41/100\n",
      "50000/50000 [==============================] - 13s 264us/step - loss: 0.0890 - acc: 0.9688\n",
      "Epoch 42/100\n",
      "50000/50000 [==============================] - 11s 228us/step - loss: 0.0896 - acc: 0.9677\n",
      "Epoch 43/100\n",
      "50000/50000 [==============================] - 11s 218us/step - loss: 0.0689 - acc: 0.9774\n",
      "Epoch 44/100\n",
      "50000/50000 [==============================] - 11s 213us/step - loss: 0.0908 - acc: 0.9682\n",
      "Epoch 45/100\n",
      "50000/50000 [==============================] - 12s 239us/step - loss: 0.0840 - acc: 0.9711\n",
      "Epoch 46/100\n",
      "50000/50000 [==============================] - 11s 229us/step - loss: 0.0741 - acc: 0.9734\n",
      "Epoch 47/100\n",
      "50000/50000 [==============================] - 11s 223us/step - loss: 0.0788 - acc: 0.9728\n",
      "Epoch 48/100\n",
      "50000/50000 [==============================] - 11s 211us/step - loss: 0.0782 - acc: 0.9732\n",
      "Epoch 49/100\n",
      "50000/50000 [==============================] - 11s 214us/step - loss: 0.0708 - acc: 0.97551s \n",
      "Epoch 50/100\n",
      "50000/50000 [==============================] - 10s 203us/step - loss: 0.0715 - acc: 0.9751\n",
      "Epoch 51/100\n",
      "50000/50000 [==============================] - 10s 209us/step - loss: 0.0724 - acc: 0.9748\n",
      "Epoch 52/100\n",
      "50000/50000 [==============================] - 10s 206us/step - loss: 0.0647 - acc: 0.9775\n",
      "Epoch 53/100\n",
      "50000/50000 [==============================] - 10s 208us/step - loss: 0.0665 - acc: 0.9777\n",
      "Epoch 54/100\n",
      "50000/50000 [==============================] - 10s 206us/step - loss: 0.0528 - acc: 0.98181s - lo\n",
      "Epoch 55/100\n",
      "50000/50000 [==============================] - 10s 205us/step - loss: 0.0802 - acc: 0.9724\n",
      "Epoch 56/100\n",
      "50000/50000 [==============================] - 10s 208us/step - loss: 0.0676 - acc: 0.9770\n",
      "Epoch 57/100\n",
      "50000/50000 [==============================] - 11s 217us/step - loss: 0.0492 - acc: 0.9830\n",
      "Epoch 58/100\n",
      "50000/50000 [==============================] - 12s 248us/step - loss: 0.0579 - acc: 0.9800\n",
      "Epoch 59/100\n",
      "50000/50000 [==============================] - 11s 227us/step - loss: 0.0720 - acc: 0.9736\n",
      "Epoch 60/100\n",
      "50000/50000 [==============================] - 11s 220us/step - loss: 0.0536 - acc: 0.9821\n",
      "Epoch 61/100\n",
      "50000/50000 [==============================] - 11s 219us/step - loss: 0.0512 - acc: 0.98270s - loss: 0.047\n",
      "Epoch 62/100\n",
      "50000/50000 [==============================] - 11s 219us/step - loss: 0.0738 - acc: 0.9739\n",
      "Epoch 63/100\n",
      "50000/50000 [==============================] - 12s 242us/step - loss: 0.0513 - acc: 0.9832\n",
      "Epoch 64/100\n",
      "50000/50000 [==============================] - 11s 225us/step - loss: 0.0533 - acc: 0.9821\n",
      "Epoch 65/100\n",
      "50000/50000 [==============================] - 11s 226us/step - loss: 0.0689 - acc: 0.9763\n",
      "Epoch 66/100\n",
      "50000/50000 [==============================] - 12s 238us/step - loss: 0.0419 - acc: 0.9858\n",
      "Epoch 67/100\n",
      "50000/50000 [==============================] - 12s 231us/step - loss: 0.0336 - acc: 0.9891\n",
      "Epoch 68/100\n",
      "50000/50000 [==============================] - 11s 229us/step - loss: 0.0622 - acc: 0.9788\n",
      "Epoch 69/100\n",
      "50000/50000 [==============================] - 11s 227us/step - loss: 0.0548 - acc: 0.9815\n",
      "Epoch 70/100\n",
      "50000/50000 [==============================] - 11s 226us/step - loss: 0.0575 - acc: 0.9800\n",
      "Epoch 71/100\n",
      "50000/50000 [==============================] - 11s 221us/step - loss: 0.0484 - acc: 0.9835\n",
      "Epoch 72/100\n",
      "50000/50000 [==============================] - 11s 226us/step - loss: 0.0420 - acc: 0.9863\n",
      "Epoch 73/100\n",
      "50000/50000 [==============================] - 11s 225us/step - loss: 0.0432 - acc: 0.9850\n",
      "Epoch 74/100\n",
      "50000/50000 [==============================] - 11s 224us/step - loss: 0.0498 - acc: 0.9834\n",
      "Epoch 75/100\n",
      "50000/50000 [==============================] - 11s 228us/step - loss: 0.0520 - acc: 0.9820\n",
      "Epoch 76/100\n",
      "50000/50000 [==============================] - 11s 230us/step - loss: 0.0399 - acc: 0.9862\n",
      "Epoch 77/100\n",
      "50000/50000 [==============================] - 11s 226us/step - loss: 0.0427 - acc: 0.9854\n",
      "Epoch 78/100\n",
      "50000/50000 [==============================] - 11s 230us/step - loss: 0.0563 - acc: 0.9810\n",
      "Epoch 79/100\n"
     ]
    },
    {
     "name": "stdout",
     "output_type": "stream",
     "text": [
      "50000/50000 [==============================] - 11s 222us/step - loss: 0.0475 - acc: 0.9837\n",
      "Epoch 80/100\n",
      "50000/50000 [==============================] - 11s 219us/step - loss: 0.0367 - acc: 0.9880\n",
      "Epoch 81/100\n",
      "50000/50000 [==============================] - 11s 219us/step - loss: 0.0520 - acc: 0.9824\n",
      "Epoch 82/100\n",
      "50000/50000 [==============================] - 11s 222us/step - loss: 0.0424 - acc: 0.9856\n",
      "Epoch 83/100\n",
      "50000/50000 [==============================] - ETA: 0s - loss: 0.0350 - acc: 0.988 - 11s 223us/step - loss: 0.0350 - acc: 0.9886\n",
      "Epoch 84/100\n",
      "50000/50000 [==============================] - 11s 221us/step - loss: 0.0432 - acc: 0.9855\n",
      "Epoch 85/100\n",
      "50000/50000 [==============================] - 11s 224us/step - loss: 0.0464 - acc: 0.9841\n",
      "Epoch 86/100\n",
      "50000/50000 [==============================] - 11s 221us/step - loss: 0.0401 - acc: 0.9866\n",
      "Epoch 87/100\n",
      "50000/50000 [==============================] - 11s 221us/step - loss: 0.0335 - acc: 0.9886\n",
      "Epoch 88/100\n",
      "50000/50000 [==============================] - 11s 218us/step - loss: 0.0433 - acc: 0.9852\n",
      "Epoch 89/100\n",
      "50000/50000 [==============================] - 12s 243us/step - loss: 0.0412 - acc: 0.9864\n",
      "Epoch 90/100\n",
      "50000/50000 [==============================] - 11s 218us/step - loss: 0.0386 - acc: 0.9867\n",
      "Epoch 91/100\n",
      "50000/50000 [==============================] - 11s 218us/step - loss: 0.0410 - acc: 0.9864\n",
      "Epoch 92/100\n",
      "50000/50000 [==============================] - 11s 222us/step - loss: 0.0362 - acc: 0.9876\n",
      "Epoch 93/100\n",
      "50000/50000 [==============================] - 11s 219us/step - loss: 0.0399 - acc: 0.9860\n",
      "Epoch 94/100\n",
      "50000/50000 [==============================] - 11s 216us/step - loss: 0.0509 - acc: 0.9825\n",
      "Epoch 95/100\n",
      "50000/50000 [==============================] - 11s 216us/step - loss: 0.0334 - acc: 0.9891\n",
      "Epoch 96/100\n",
      "50000/50000 [==============================] - 11s 219us/step - loss: 0.0332 - acc: 0.9891\n",
      "Epoch 97/100\n",
      "50000/50000 [==============================] - 11s 229us/step - loss: 0.0427 - acc: 0.9862\n",
      "Epoch 98/100\n",
      "50000/50000 [==============================] - 12s 235us/step - loss: 0.0416 - acc: 0.9870\n",
      "Epoch 99/100\n",
      "50000/50000 [==============================] - 11s 225us/step - loss: 0.0309 - acc: 0.9898\n",
      "Epoch 100/100\n",
      "50000/50000 [==============================] - 11s 226us/step - loss: 0.0254 - acc: 0.9920\n"
     ]
    },
    {
     "data": {
      "text/plain": [
       "<keras.callbacks.History at 0x24479ba2ac8>"
      ]
     },
     "execution_count": 6,
     "metadata": {},
     "output_type": "execute_result"
    }
   ],
   "source": [
    "#超過兩個就要選categorical_crossentrophy\n",
    "classifier.compile(optimizer = 'adam', loss = 'categorical_crossentropy', metrics = ['accuracy'])\n",
    "classifier.fit(x_train,y_train,batch_size=100,epochs=100)"
   ]
  },
  {
   "cell_type": "markdown",
   "metadata": {},
   "source": [
    "## 預測新圖片，輸入影像前處理要與訓練時相同\n",
    "#### ((X-mean)/(std+1e-7) ):這裡的mean跟std是訓練集的\n",
    "## 維度如下方示範"
   ]
  },
  {
   "cell_type": "code",
   "execution_count": 7,
   "metadata": {},
   "outputs": [
    {
     "data": {
      "text/plain": [
       "array([[1.7125222e-03, 5.1856805e-08, 2.6365907e-03, 9.2655325e-01,\n",
       "        6.8370879e-02, 5.6222235e-11, 5.2109122e-04, 1.3430668e-21,\n",
       "        2.0555539e-04, 1.0867586e-18]], dtype=float32)"
      ]
     },
     "execution_count": 7,
     "metadata": {},
     "output_type": "execute_result"
    }
   ],
   "source": [
    "input_example=(np.zeros(shape=(1,32,32,3))-mean_train)/(std_train+1e-7) \n",
    "classifier.predict(input_example)"
   ]
  },
  {
   "cell_type": "code",
   "execution_count": 16,
   "metadata": {},
   "outputs": [],
   "source": [
    "def plot_images_labels_prediction(images,labels,prediction,idx,num=10):\n",
    "    fig=plt.gcf()\n",
    "    fig.set_size_inches(12,14)\n",
    "    if num>25:\n",
    "        num=25\n",
    "    for i in range(0,num):\n",
    "        ax=plt.subplot(5,5,1+i)\n",
    "        ax.imshow(images[idx], cmap='binary')\n",
    "        title='label='+str(labels[idx])\n",
    "        if len(prediction)>0:\n",
    "            title+=',prediction='+str(prediction[idx])\n",
    "        ax.set_title(title,fontsize=10)\n",
    "        ax.set_xticks([]); ax.set_yticks([])\n",
    "        idx+=1\n",
    "    plt.show()   "
   ]
  },
  {
   "cell_type": "code",
   "execution_count": 19,
   "metadata": {},
   "outputs": [
    {
     "data": {
      "image/png": "[encoded data removed]",
      "text/plain": [
       "<Figure size 864x1008 with 10 Axes>"
      ]
     },
     "metadata": {},
     "output_type": "display_data"
    }
   ],
   "source": [
    "plot_images_labels_prediction(x_train,y_train,[],0)"
   ]
  }
 ],
 "metadata": {
  "kernelspec": {
   "display_name": "Python 3",
   "language": "python",
   "name": "python3"
  },
  "language_info": {
   "codemirror_mode": {
    "name": "ipython",
    "version": 3
   },
   "file_extension": ".py",
   "mimetype": "text/x-python",
   "name": "python",
   "nbconvert_exporter": "python",
   "pygments_lexer": "ipython3",
   "version": "3.6.8"
  }
 },
 "nbformat": 4,
 "nbformat_minor": 2
}
